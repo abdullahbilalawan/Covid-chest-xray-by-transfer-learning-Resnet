{
 "cells": [
  {
   "cell_type": "code",
   "execution_count": 66,
   "metadata": {},
   "outputs": [],
   "source": [
    "import math, json, os, sys\n",
    "\n",
    "import keras\n",
    "from keras.callbacks import EarlyStopping, ModelCheckpoint\n",
    "from keras.layers import Dense\n",
    "from keras.models import Model\n",
    "from keras.optimizers import Adam\n",
    "from keras.preprocessing import image\n",
    "import tensorflow as tf\n",
    "import numpy as np\n",
    "import pandas as pd\n",
    "import matplotlib.pyplot as plt"
   ]
  },
  {
   "cell_type": "markdown",
   "metadata": {},
   "source": [
    "# making dataset using image data generator class keras"
   ]
  },
  {
   "cell_type": "code",
   "execution_count": 30,
   "metadata": {},
   "outputs": [],
   "source": [
    "gen = keras.preprocessing.image.ImageDataGenerator()"
   ]
  },
  {
   "cell_type": "code",
   "execution_count": 31,
   "metadata": {},
   "outputs": [
    {
     "name": "stdout",
     "output_type": "stream",
     "text": [
      "Found 1734 images belonging to 3 classes.\n"
     ]
    }
   ],
   "source": [
    "TRAIN_DIR='data'\n",
    "\n",
    "\n",
    "batches = gen.flow_from_directory(TRAIN_DIR, target_size=(224,224),\n",
    "                                  \n",
    "                                   class_mode='categorical', shuffle=True, batch_size=32)"
   ]
  },
  {
   "cell_type": "markdown",
   "metadata": {},
   "source": [
    "# loading resnet"
   ]
  },
  {
   "cell_type": "code",
   "execution_count": 32,
   "metadata": {},
   "outputs": [],
   "source": [
    " model = keras.applications.resnet50.ResNet50()"
   ]
  },
  {
   "cell_type": "code",
   "execution_count": 33,
   "metadata": {},
   "outputs": [],
   "source": [
    " classes = list(iter(batches.class_indices))"
   ]
  },
  {
   "cell_type": "code",
   "execution_count": 34,
   "metadata": {},
   "outputs": [
    {
     "data": {
      "text/plain": [
       "['covid', 'normal', 'pneumonia']"
      ]
     },
     "execution_count": 34,
     "metadata": {},
     "output_type": "execute_result"
    }
   ],
   "source": [
    "classes"
   ]
  },
  {
   "cell_type": "markdown",
   "metadata": {},
   "source": [
    "# Performing network surgery of Resnet 50 (fine tuning)"
   ]
  },
  {
   "cell_type": "markdown",
   "metadata": {},
   "source": [
    "# removing output layer of resnet 50"
   ]
  },
  {
   "cell_type": "code",
   "execution_count": 35,
   "metadata": {},
   "outputs": [
    {
     "data": {
      "text/plain": [
       "[<keras.engine.input_layer.InputLayer at 0x2532c83ea48>,\n",
       " <keras.layers.convolutional.ZeroPadding2D at 0x2532c83e788>,\n",
       " <keras.layers.convolutional.Conv2D at 0x2532c83ef08>,\n",
       " <keras.layers.normalization.BatchNormalization at 0x2532c9884c8>,\n",
       " <keras.layers.core.Activation at 0x2532c83dc08>,\n",
       " <keras.layers.convolutional.ZeroPadding2D at 0x2532c98e788>,\n",
       " <keras.layers.pooling.MaxPooling2D at 0x2532e098ec8>,\n",
       " <keras.layers.convolutional.Conv2D at 0x2532e0adf48>,\n",
       " <keras.layers.normalization.BatchNormalization at 0x2532e0a9348>,\n",
       " <keras.layers.core.Activation at 0x25330154d88>,\n",
       " <keras.layers.convolutional.Conv2D at 0x2533016ffc8>,\n",
       " <keras.layers.normalization.BatchNormalization at 0x25330188448>,\n",
       " <keras.layers.core.Activation at 0x25330190d88>,\n",
       " <keras.layers.convolutional.Conv2D at 0x2532c8ab608>,\n",
       " <keras.layers.convolutional.Conv2D at 0x253301d3ec8>,\n",
       " <keras.layers.normalization.BatchNormalization at 0x253301c7448>,\n",
       " <keras.layers.normalization.BatchNormalization at 0x253301f5fc8>,\n",
       " <keras.layers.merge.Add at 0x2533020dec8>,\n",
       " <keras.layers.core.Activation at 0x2533022a148>,\n",
       " <keras.layers.convolutional.Conv2D at 0x25330231e08>,\n",
       " <keras.layers.normalization.BatchNormalization at 0x25330246288>,\n",
       " <keras.layers.core.Activation at 0x2533024bc48>,\n",
       " <keras.layers.convolutional.Conv2D at 0x25330268ec8>,\n",
       " <keras.layers.normalization.BatchNormalization at 0x25330282388>,\n",
       " <keras.layers.core.Activation at 0x25330289c88>,\n",
       " <keras.layers.convolutional.Conv2D at 0x253302a8fc8>,\n",
       " <keras.layers.normalization.BatchNormalization at 0x253302c5388>,\n",
       " <keras.layers.merge.Add at 0x253302cae88>,\n",
       " <keras.layers.core.Activation at 0x253307a7fc8>,\n",
       " <keras.layers.convolutional.Conv2D at 0x253307b5bc8>,\n",
       " <keras.layers.normalization.BatchNormalization at 0x253307c60c8>,\n",
       " <keras.layers.core.Activation at 0x253307cd548>,\n",
       " <keras.layers.convolutional.Conv2D at 0x25330948788>,\n",
       " <keras.layers.normalization.BatchNormalization at 0x2533095f808>,\n",
       " <keras.layers.core.Activation at 0x2533096a508>,\n",
       " <keras.layers.convolutional.Conv2D at 0x253312a8748>,\n",
       " <keras.layers.normalization.BatchNormalization at 0x253312c0608>,\n",
       " <keras.layers.merge.Add at 0x253312ca548>,\n",
       " <keras.layers.core.Activation at 0x25331477788>,\n",
       " <keras.layers.convolutional.Conv2D at 0x25331476588>,\n",
       " <keras.layers.normalization.BatchNormalization at 0x25331493348>,\n",
       " <keras.layers.core.Activation at 0x25331499d08>,\n",
       " <keras.layers.convolutional.Conv2D at 0x253314b7f88>,\n",
       " <keras.layers.normalization.BatchNormalization at 0x253314d2448>,\n",
       " <keras.layers.core.Activation at 0x253314d8d48>,\n",
       " <keras.layers.convolutional.Conv2D at 0x25375ff5fc8>,\n",
       " <keras.layers.convolutional.Conv2D at 0x2537601aec8>,\n",
       " <keras.layers.normalization.BatchNormalization at 0x2537600f488>,\n",
       " <keras.layers.normalization.BatchNormalization at 0x2537603ffc8>,\n",
       " <keras.layers.merge.Add at 0x25376056e08>,\n",
       " <keras.layers.core.Activation at 0x25376071788>,\n",
       " <keras.layers.convolutional.Conv2D at 0x2537607a8c8>,\n",
       " <keras.layers.normalization.BatchNormalization at 0x2537608e388>,\n",
       " <keras.layers.core.Activation at 0x25376094d48>,\n",
       " <keras.layers.convolutional.Conv2D at 0x254045a1fc8>,\n",
       " <keras.layers.normalization.BatchNormalization at 0x254045bc448>,\n",
       " <keras.layers.core.Activation at 0x254045c2d88>,\n",
       " <keras.layers.convolutional.Conv2D at 0x254045e07c8>,\n",
       " <keras.layers.normalization.BatchNormalization at 0x254045fb048>,\n",
       " <keras.layers.merge.Add at 0x25404604e08>,\n",
       " <keras.layers.core.Activation at 0x254047e8848>,\n",
       " <keras.layers.convolutional.Conv2D at 0x254047eecc8>,\n",
       " <keras.layers.normalization.BatchNormalization at 0x254047fd0c8>,\n",
       " <keras.layers.core.Activation at 0x254048057c8>,\n",
       " <keras.layers.convolutional.Conv2D at 0x25404821848>,\n",
       " <keras.layers.normalization.BatchNormalization at 0x2540483aec8>,\n",
       " <keras.layers.core.Activation at 0x25404844808>,\n",
       " <keras.layers.convolutional.Conv2D at 0x2540485e888>,\n",
       " <keras.layers.normalization.BatchNormalization at 0x25404877f08>,\n",
       " <keras.layers.merge.Add at 0x25404884348>,\n",
       " <keras.layers.core.Activation at 0x2540489f908>,\n",
       " <keras.layers.convolutional.Conv2D at 0x254048a8f48>,\n",
       " <keras.layers.normalization.BatchNormalization at 0x254048bd4c8>,\n",
       " <keras.layers.core.Activation at 0x254048c2f08>,\n",
       " <keras.layers.convolutional.Conv2D at 0x25404b730c8>,\n",
       " <keras.layers.normalization.BatchNormalization at 0x25404b89048>,\n",
       " <keras.layers.core.Activation at 0x25404b91e88>,\n",
       " <keras.layers.convolutional.Conv2D at 0x254050a2108>,\n",
       " <keras.layers.normalization.BatchNormalization at 0x254050b9088>,\n",
       " <keras.layers.merge.Add at 0x254050bfec8>,\n",
       " <keras.layers.core.Activation at 0x2540d900148>,\n",
       " <keras.layers.convolutional.Conv2D at 0x2540d90bbc8>,\n",
       " <keras.layers.normalization.BatchNormalization at 0x2540d91a088>,\n",
       " <keras.layers.core.Activation at 0x2540d921408>,\n",
       " <keras.layers.convolutional.Conv2D at 0x2540d93f988>,\n",
       " <keras.layers.normalization.BatchNormalization at 0x2540d95a388>,\n",
       " <keras.layers.core.Activation at 0x2540d95fe08>,\n",
       " <keras.layers.convolutional.Conv2D at 0x2540d97e9c8>,\n",
       " <keras.layers.convolutional.Conv2D at 0x2540d9a3948>,\n",
       " <keras.layers.normalization.BatchNormalization at 0x2540d9993c8>,\n",
       " <keras.layers.normalization.BatchNormalization at 0x2540d9c2b48>,\n",
       " <keras.layers.merge.Add at 0x2540d9dd6c8>,\n",
       " <keras.layers.core.Activation at 0x2540d9eef48>,\n",
       " <keras.layers.convolutional.Conv2D at 0x2540da07e08>,\n",
       " <keras.layers.normalization.BatchNormalization at 0x2540da180c8>,\n",
       " <keras.layers.core.Activation at 0x2540da1de08>,\n",
       " <keras.layers.convolutional.Conv2D at 0x2532db51fc8>,\n",
       " <keras.layers.normalization.BatchNormalization at 0x2532db36148>,\n",
       " <keras.layers.core.Activation at 0x2532db567c8>,\n",
       " <keras.layers.convolutional.Conv2D at 0x2532db4dc48>,\n",
       " <keras.layers.normalization.BatchNormalization at 0x2532c97c748>,\n",
       " <keras.layers.merge.Add at 0x2532c983cc8>,\n",
       " <keras.layers.core.Activation at 0x25402e94688>,\n",
       " <keras.layers.convolutional.Conv2D at 0x25402ea4288>,\n",
       " <keras.layers.normalization.BatchNormalization at 0x25402eaf308>,\n",
       " <keras.layers.core.Activation at 0x25402eb2cc8>,\n",
       " <keras.layers.convolutional.Conv2D at 0x25402ed2fc8>,\n",
       " <keras.layers.normalization.BatchNormalization at 0x25402eef0c8>,\n",
       " <keras.layers.core.Activation at 0x25402ef5f08>,\n",
       " <keras.layers.convolutional.Conv2D at 0x25402f14108>,\n",
       " <keras.layers.normalization.BatchNormalization at 0x25402f2b808>,\n",
       " <keras.layers.merge.Add at 0x25402f38a08>,\n",
       " <keras.layers.core.Activation at 0x25402f542c8>,\n",
       " <keras.layers.convolutional.Conv2D at 0x25402f60fc8>,\n",
       " <keras.layers.normalization.BatchNormalization at 0x25402f6e108>,\n",
       " <keras.layers.core.Activation at 0x25402f74648>,\n",
       " <keras.layers.convolutional.Conv2D at 0x25402f91e48>,\n",
       " <keras.layers.normalization.BatchNormalization at 0x25402fac1c8>,\n",
       " <keras.layers.core.Activation at 0x25402fb4608>,\n",
       " <keras.layers.convolutional.Conv2D at 0x25402fd1f88>,\n",
       " <keras.layers.normalization.BatchNormalization at 0x25402feb388>,\n",
       " <keras.layers.merge.Add at 0x25402ff2cc8>,\n",
       " <keras.layers.core.Activation at 0x25403010f88>,\n",
       " <keras.layers.convolutional.Conv2D at 0x2540301ffc8>,\n",
       " <keras.layers.normalization.BatchNormalization at 0x2540302a108>,\n",
       " <keras.layers.core.Activation at 0x25403034308>,\n",
       " <keras.layers.convolutional.Conv2D at 0x2540304f948>,\n",
       " <keras.layers.normalization.BatchNormalization at 0x2540306b408>,\n",
       " <keras.layers.core.Activation at 0x25403070e88>,\n",
       " <keras.layers.convolutional.Conv2D at 0x2540308dac8>,\n",
       " <keras.layers.normalization.BatchNormalization at 0x254030ab088>,\n",
       " <keras.layers.merge.Add at 0x254030b25c8>,\n",
       " <keras.layers.core.Activation at 0x254030cde48>,\n",
       " <keras.layers.convolutional.Conv2D at 0x254030ddcc8>,\n",
       " <keras.layers.normalization.BatchNormalization at 0x254030ea248>,\n",
       " <keras.layers.core.Activation at 0x254030f5508>,\n",
       " <keras.layers.convolutional.Conv2D at 0x2540310f588>,\n",
       " <keras.layers.normalization.BatchNormalization at 0x254031265c8>,\n",
       " <keras.layers.core.Activation at 0x25403132608>,\n",
       " <keras.layers.convolutional.Conv2D at 0x25403150748>,\n",
       " <keras.layers.normalization.BatchNormalization at 0x2540316a108>,\n",
       " <keras.layers.merge.Add at 0x25403171308>,\n",
       " <keras.layers.core.Activation at 0x2540318c948>,\n",
       " <keras.layers.convolutional.Conv2D at 0x2540319c588>,\n",
       " <keras.layers.normalization.BatchNormalization at 0x254031a95c8>,\n",
       " <keras.layers.core.Activation at 0x254031aedc8>,\n",
       " <keras.layers.convolutional.Conv2D at 0x254031d0248>,\n",
       " <keras.layers.normalization.BatchNormalization at 0x254031e4288>,\n",
       " <keras.layers.core.Activation at 0x254031f0c88>,\n",
       " <keras.layers.convolutional.Conv2D at 0x2540320e3c8>,\n",
       " <keras.layers.convolutional.Conv2D at 0x2540322c4c8>,\n",
       " <keras.layers.normalization.BatchNormalization at 0x25403224a88>,\n",
       " <keras.layers.normalization.BatchNormalization at 0x25403259208>,\n",
       " <keras.layers.merge.Add at 0x25403269c08>,\n",
       " <keras.layers.core.Activation at 0x25403288e88>,\n",
       " <keras.layers.convolutional.Conv2D at 0x25403296ec8>,\n",
       " <keras.layers.normalization.BatchNormalization at 0x254032a8048>,\n",
       " <keras.layers.core.Activation at 0x254032ae748>,\n",
       " <keras.layers.convolutional.Conv2D at 0x254032ca848>,\n",
       " <keras.layers.normalization.BatchNormalization at 0x254032e1f88>,\n",
       " <keras.layers.core.Activation at 0x254032ed388>,\n",
       " <keras.layers.convolutional.Conv2D at 0x2540330a9c8>,\n",
       " <keras.layers.normalization.BatchNormalization at 0x25403326088>,\n",
       " <keras.layers.merge.Add at 0x2540332cfc8>,\n",
       " <keras.layers.core.Activation at 0x25403349d48>,\n",
       " <keras.layers.convolutional.Conv2D at 0x25403357bc8>,\n",
       " <keras.layers.normalization.BatchNormalization at 0x25403364148>,\n",
       " <keras.layers.core.Activation at 0x2540336ed48>,\n",
       " <keras.layers.convolutional.Conv2D at 0x25403389488>,\n",
       " <keras.layers.normalization.BatchNormalization at 0x254033a04c8>,\n",
       " <keras.layers.core.Activation at 0x254033ab548>,\n",
       " <keras.layers.convolutional.Conv2D at 0x254033c9688>,\n",
       " <keras.layers.normalization.BatchNormalization at 0x254033dffc8>,\n",
       " <keras.layers.merge.Add at 0x254033ea748>,\n",
       " <keras.layers.core.Activation at 0x25403407808>,\n",
       " <keras.layers.pooling.GlobalAveragePooling2D at 0x254033575c8>,\n",
       " <keras.layers.core.Dense at 0x254034207c8>]"
      ]
     },
     "execution_count": 35,
     "metadata": {},
     "output_type": "execute_result"
    }
   ],
   "source": [
    "model.layers"
   ]
  },
  {
   "cell_type": "code",
   "execution_count": 36,
   "metadata": {},
   "outputs": [
    {
     "data": {
      "text/plain": [
       "<keras.layers.core.Dense at 0x254034207c8>"
      ]
     },
     "execution_count": 36,
     "metadata": {},
     "output_type": "execute_result"
    }
   ],
   "source": [
    "model.layers.pop()"
   ]
  },
  {
   "cell_type": "markdown",
   "metadata": {},
   "source": [
    "# freezing all layers of resnet with weights"
   ]
  },
  {
   "cell_type": "code",
   "execution_count": 37,
   "metadata": {},
   "outputs": [],
   "source": [
    "for layer in model.layers:\n",
    "    layer.trainable =False\n",
    "        "
   ]
  },
  {
   "cell_type": "markdown",
   "metadata": {},
   "source": [
    "# attaching out dense layer to resnet frozen net"
   ]
  },
  {
   "cell_type": "code",
   "execution_count": 38,
   "metadata": {},
   "outputs": [],
   "source": [
    "# taking last layer of resnet as output of our inputs"
   ]
  },
  {
   "cell_type": "code",
   "execution_count": 47,
   "metadata": {},
   "outputs": [],
   "source": [
    "last = model.layers[-1].output\n"
   ]
  },
  {
   "cell_type": "code",
   "execution_count": 40,
   "metadata": {},
   "outputs": [],
   "source": [
    "# defining ourdense layer"
   ]
  },
  {
   "cell_type": "code",
   "execution_count": 48,
   "metadata": {},
   "outputs": [],
   "source": [
    "x = Dense(len(classes), activation=\"softmax\")(last)"
   ]
  },
  {
   "cell_type": "code",
   "execution_count": 49,
   "metadata": {},
   "outputs": [],
   "source": [
    "final_model = Model([model.input],[x])\n",
    "for c in batches.class_indices:    \n",
    "    classes[batches.class_indices[c]] = c\n",
    "    final_model.classes = classes"
   ]
  },
  {
   "cell_type": "code",
   "execution_count": 63,
   "metadata": {},
   "outputs": [],
   "source": [
    "# compiling the model\n",
    "final_model.compile(optimizer=Adam(), loss='categorical_crossentropy', metrics=['accuracy'])"
   ]
  },
  {
   "cell_type": "code",
   "execution_count": 64,
   "metadata": {},
   "outputs": [
    {
     "name": "stdout",
     "output_type": "stream",
     "text": [
      "Model: \"model_4\"\n",
      "__________________________________________________________________________________________________\n",
      "Layer (type)                    Output Shape         Param #     Connected to                     \n",
      "==================================================================================================\n",
      "input_2 (InputLayer)            (None, 224, 224, 3)  0                                            \n",
      "__________________________________________________________________________________________________\n",
      "conv1_pad (ZeroPadding2D)       (None, 230, 230, 3)  0           input_2[0][0]                    \n",
      "__________________________________________________________________________________________________\n",
      "conv1 (Conv2D)                  (None, 112, 112, 64) 9472        conv1_pad[0][0]                  \n",
      "__________________________________________________________________________________________________\n",
      "bn_conv1 (BatchNormalization)   (None, 112, 112, 64) 256         conv1[0][0]                      \n",
      "__________________________________________________________________________________________________\n",
      "activation_50 (Activation)      (None, 112, 112, 64) 0           bn_conv1[0][0]                   \n",
      "__________________________________________________________________________________________________\n",
      "pool1_pad (ZeroPadding2D)       (None, 114, 114, 64) 0           activation_50[0][0]              \n",
      "__________________________________________________________________________________________________\n",
      "max_pooling2d_2 (MaxPooling2D)  (None, 56, 56, 64)   0           pool1_pad[0][0]                  \n",
      "__________________________________________________________________________________________________\n",
      "res2a_branch2a (Conv2D)         (None, 56, 56, 64)   4160        max_pooling2d_2[0][0]            \n",
      "__________________________________________________________________________________________________\n",
      "bn2a_branch2a (BatchNormalizati (None, 56, 56, 64)   256         res2a_branch2a[0][0]             \n",
      "__________________________________________________________________________________________________\n",
      "activation_51 (Activation)      (None, 56, 56, 64)   0           bn2a_branch2a[0][0]              \n",
      "__________________________________________________________________________________________________\n",
      "res2a_branch2b (Conv2D)         (None, 56, 56, 64)   36928       activation_51[0][0]              \n",
      "__________________________________________________________________________________________________\n",
      "bn2a_branch2b (BatchNormalizati (None, 56, 56, 64)   256         res2a_branch2b[0][0]             \n",
      "__________________________________________________________________________________________________\n",
      "activation_52 (Activation)      (None, 56, 56, 64)   0           bn2a_branch2b[0][0]              \n",
      "__________________________________________________________________________________________________\n",
      "res2a_branch2c (Conv2D)         (None, 56, 56, 256)  16640       activation_52[0][0]              \n",
      "__________________________________________________________________________________________________\n",
      "res2a_branch1 (Conv2D)          (None, 56, 56, 256)  16640       max_pooling2d_2[0][0]            \n",
      "__________________________________________________________________________________________________\n",
      "bn2a_branch2c (BatchNormalizati (None, 56, 56, 256)  1024        res2a_branch2c[0][0]             \n",
      "__________________________________________________________________________________________________\n",
      "bn2a_branch1 (BatchNormalizatio (None, 56, 56, 256)  1024        res2a_branch1[0][0]              \n",
      "__________________________________________________________________________________________________\n",
      "add_17 (Add)                    (None, 56, 56, 256)  0           bn2a_branch2c[0][0]              \n",
      "                                                                 bn2a_branch1[0][0]               \n",
      "__________________________________________________________________________________________________\n",
      "activation_53 (Activation)      (None, 56, 56, 256)  0           add_17[0][0]                     \n",
      "__________________________________________________________________________________________________\n",
      "res2b_branch2a (Conv2D)         (None, 56, 56, 64)   16448       activation_53[0][0]              \n",
      "__________________________________________________________________________________________________\n",
      "bn2b_branch2a (BatchNormalizati (None, 56, 56, 64)   256         res2b_branch2a[0][0]             \n",
      "__________________________________________________________________________________________________\n",
      "activation_54 (Activation)      (None, 56, 56, 64)   0           bn2b_branch2a[0][0]              \n",
      "__________________________________________________________________________________________________\n",
      "res2b_branch2b (Conv2D)         (None, 56, 56, 64)   36928       activation_54[0][0]              \n",
      "__________________________________________________________________________________________________\n",
      "bn2b_branch2b (BatchNormalizati (None, 56, 56, 64)   256         res2b_branch2b[0][0]             \n",
      "__________________________________________________________________________________________________\n",
      "activation_55 (Activation)      (None, 56, 56, 64)   0           bn2b_branch2b[0][0]              \n",
      "__________________________________________________________________________________________________\n",
      "res2b_branch2c (Conv2D)         (None, 56, 56, 256)  16640       activation_55[0][0]              \n",
      "__________________________________________________________________________________________________\n",
      "bn2b_branch2c (BatchNormalizati (None, 56, 56, 256)  1024        res2b_branch2c[0][0]             \n",
      "__________________________________________________________________________________________________\n",
      "add_18 (Add)                    (None, 56, 56, 256)  0           bn2b_branch2c[0][0]              \n",
      "                                                                 activation_53[0][0]              \n",
      "__________________________________________________________________________________________________\n",
      "activation_56 (Activation)      (None, 56, 56, 256)  0           add_18[0][0]                     \n",
      "__________________________________________________________________________________________________\n",
      "res2c_branch2a (Conv2D)         (None, 56, 56, 64)   16448       activation_56[0][0]              \n",
      "__________________________________________________________________________________________________\n",
      "bn2c_branch2a (BatchNormalizati (None, 56, 56, 64)   256         res2c_branch2a[0][0]             \n",
      "__________________________________________________________________________________________________\n",
      "activation_57 (Activation)      (None, 56, 56, 64)   0           bn2c_branch2a[0][0]              \n",
      "__________________________________________________________________________________________________\n",
      "res2c_branch2b (Conv2D)         (None, 56, 56, 64)   36928       activation_57[0][0]              \n",
      "__________________________________________________________________________________________________\n",
      "bn2c_branch2b (BatchNormalizati (None, 56, 56, 64)   256         res2c_branch2b[0][0]             \n",
      "__________________________________________________________________________________________________\n",
      "activation_58 (Activation)      (None, 56, 56, 64)   0           bn2c_branch2b[0][0]              \n",
      "__________________________________________________________________________________________________\n",
      "res2c_branch2c (Conv2D)         (None, 56, 56, 256)  16640       activation_58[0][0]              \n",
      "__________________________________________________________________________________________________\n",
      "bn2c_branch2c (BatchNormalizati (None, 56, 56, 256)  1024        res2c_branch2c[0][0]             \n",
      "__________________________________________________________________________________________________\n",
      "add_19 (Add)                    (None, 56, 56, 256)  0           bn2c_branch2c[0][0]              \n",
      "                                                                 activation_56[0][0]              \n",
      "__________________________________________________________________________________________________\n",
      "activation_59 (Activation)      (None, 56, 56, 256)  0           add_19[0][0]                     \n",
      "__________________________________________________________________________________________________\n",
      "res3a_branch2a (Conv2D)         (None, 28, 28, 128)  32896       activation_59[0][0]              \n",
      "__________________________________________________________________________________________________\n",
      "bn3a_branch2a (BatchNormalizati (None, 28, 28, 128)  512         res3a_branch2a[0][0]             \n",
      "__________________________________________________________________________________________________\n",
      "activation_60 (Activation)      (None, 28, 28, 128)  0           bn3a_branch2a[0][0]              \n",
      "__________________________________________________________________________________________________\n",
      "res3a_branch2b (Conv2D)         (None, 28, 28, 128)  147584      activation_60[0][0]              \n",
      "__________________________________________________________________________________________________\n",
      "bn3a_branch2b (BatchNormalizati (None, 28, 28, 128)  512         res3a_branch2b[0][0]             \n",
      "__________________________________________________________________________________________________\n",
      "activation_61 (Activation)      (None, 28, 28, 128)  0           bn3a_branch2b[0][0]              \n",
      "__________________________________________________________________________________________________\n",
      "res3a_branch2c (Conv2D)         (None, 28, 28, 512)  66048       activation_61[0][0]              \n",
      "__________________________________________________________________________________________________\n",
      "res3a_branch1 (Conv2D)          (None, 28, 28, 512)  131584      activation_59[0][0]              \n",
      "__________________________________________________________________________________________________\n",
      "bn3a_branch2c (BatchNormalizati (None, 28, 28, 512)  2048        res3a_branch2c[0][0]             \n",
      "__________________________________________________________________________________________________\n",
      "bn3a_branch1 (BatchNormalizatio (None, 28, 28, 512)  2048        res3a_branch1[0][0]              \n",
      "__________________________________________________________________________________________________\n",
      "add_20 (Add)                    (None, 28, 28, 512)  0           bn3a_branch2c[0][0]              \n",
      "                                                                 bn3a_branch1[0][0]               \n",
      "__________________________________________________________________________________________________\n",
      "activation_62 (Activation)      (None, 28, 28, 512)  0           add_20[0][0]                     \n",
      "__________________________________________________________________________________________________\n",
      "res3b_branch2a (Conv2D)         (None, 28, 28, 128)  65664       activation_62[0][0]              \n",
      "__________________________________________________________________________________________________\n",
      "bn3b_branch2a (BatchNormalizati (None, 28, 28, 128)  512         res3b_branch2a[0][0]             \n",
      "__________________________________________________________________________________________________\n",
      "activation_63 (Activation)      (None, 28, 28, 128)  0           bn3b_branch2a[0][0]              \n",
      "__________________________________________________________________________________________________\n",
      "res3b_branch2b (Conv2D)         (None, 28, 28, 128)  147584      activation_63[0][0]              \n",
      "__________________________________________________________________________________________________\n",
      "bn3b_branch2b (BatchNormalizati (None, 28, 28, 128)  512         res3b_branch2b[0][0]             \n",
      "__________________________________________________________________________________________________\n",
      "activation_64 (Activation)      (None, 28, 28, 128)  0           bn3b_branch2b[0][0]              \n",
      "__________________________________________________________________________________________________\n",
      "res3b_branch2c (Conv2D)         (None, 28, 28, 512)  66048       activation_64[0][0]              \n",
      "__________________________________________________________________________________________________\n",
      "bn3b_branch2c (BatchNormalizati (None, 28, 28, 512)  2048        res3b_branch2c[0][0]             \n",
      "__________________________________________________________________________________________________\n",
      "add_21 (Add)                    (None, 28, 28, 512)  0           bn3b_branch2c[0][0]              \n",
      "                                                                 activation_62[0][0]              \n",
      "__________________________________________________________________________________________________\n",
      "activation_65 (Activation)      (None, 28, 28, 512)  0           add_21[0][0]                     \n",
      "__________________________________________________________________________________________________\n",
      "res3c_branch2a (Conv2D)         (None, 28, 28, 128)  65664       activation_65[0][0]              \n",
      "__________________________________________________________________________________________________\n",
      "bn3c_branch2a (BatchNormalizati (None, 28, 28, 128)  512         res3c_branch2a[0][0]             \n",
      "__________________________________________________________________________________________________\n",
      "activation_66 (Activation)      (None, 28, 28, 128)  0           bn3c_branch2a[0][0]              \n",
      "__________________________________________________________________________________________________\n",
      "res3c_branch2b (Conv2D)         (None, 28, 28, 128)  147584      activation_66[0][0]              \n",
      "__________________________________________________________________________________________________\n",
      "bn3c_branch2b (BatchNormalizati (None, 28, 28, 128)  512         res3c_branch2b[0][0]             \n",
      "__________________________________________________________________________________________________\n",
      "activation_67 (Activation)      (None, 28, 28, 128)  0           bn3c_branch2b[0][0]              \n",
      "__________________________________________________________________________________________________\n",
      "res3c_branch2c (Conv2D)         (None, 28, 28, 512)  66048       activation_67[0][0]              \n",
      "__________________________________________________________________________________________________\n",
      "bn3c_branch2c (BatchNormalizati (None, 28, 28, 512)  2048        res3c_branch2c[0][0]             \n",
      "__________________________________________________________________________________________________\n",
      "add_22 (Add)                    (None, 28, 28, 512)  0           bn3c_branch2c[0][0]              \n",
      "                                                                 activation_65[0][0]              \n",
      "__________________________________________________________________________________________________\n",
      "activation_68 (Activation)      (None, 28, 28, 512)  0           add_22[0][0]                     \n",
      "__________________________________________________________________________________________________\n",
      "res3d_branch2a (Conv2D)         (None, 28, 28, 128)  65664       activation_68[0][0]              \n",
      "__________________________________________________________________________________________________\n",
      "bn3d_branch2a (BatchNormalizati (None, 28, 28, 128)  512         res3d_branch2a[0][0]             \n",
      "__________________________________________________________________________________________________\n",
      "activation_69 (Activation)      (None, 28, 28, 128)  0           bn3d_branch2a[0][0]              \n",
      "__________________________________________________________________________________________________\n",
      "res3d_branch2b (Conv2D)         (None, 28, 28, 128)  147584      activation_69[0][0]              \n",
      "__________________________________________________________________________________________________\n",
      "bn3d_branch2b (BatchNormalizati (None, 28, 28, 128)  512         res3d_branch2b[0][0]             \n",
      "__________________________________________________________________________________________________\n",
      "activation_70 (Activation)      (None, 28, 28, 128)  0           bn3d_branch2b[0][0]              \n",
      "__________________________________________________________________________________________________\n",
      "res3d_branch2c (Conv2D)         (None, 28, 28, 512)  66048       activation_70[0][0]              \n",
      "__________________________________________________________________________________________________\n",
      "bn3d_branch2c (BatchNormalizati (None, 28, 28, 512)  2048        res3d_branch2c[0][0]             \n",
      "__________________________________________________________________________________________________\n",
      "add_23 (Add)                    (None, 28, 28, 512)  0           bn3d_branch2c[0][0]              \n",
      "                                                                 activation_68[0][0]              \n",
      "__________________________________________________________________________________________________\n",
      "activation_71 (Activation)      (None, 28, 28, 512)  0           add_23[0][0]                     \n",
      "__________________________________________________________________________________________________\n",
      "res4a_branch2a (Conv2D)         (None, 14, 14, 256)  131328      activation_71[0][0]              \n",
      "__________________________________________________________________________________________________\n",
      "bn4a_branch2a (BatchNormalizati (None, 14, 14, 256)  1024        res4a_branch2a[0][0]             \n",
      "__________________________________________________________________________________________________\n",
      "activation_72 (Activation)      (None, 14, 14, 256)  0           bn4a_branch2a[0][0]              \n",
      "__________________________________________________________________________________________________\n",
      "res4a_branch2b (Conv2D)         (None, 14, 14, 256)  590080      activation_72[0][0]              \n",
      "__________________________________________________________________________________________________\n",
      "bn4a_branch2b (BatchNormalizati (None, 14, 14, 256)  1024        res4a_branch2b[0][0]             \n",
      "__________________________________________________________________________________________________\n",
      "activation_73 (Activation)      (None, 14, 14, 256)  0           bn4a_branch2b[0][0]              \n",
      "__________________________________________________________________________________________________\n",
      "res4a_branch2c (Conv2D)         (None, 14, 14, 1024) 263168      activation_73[0][0]              \n",
      "__________________________________________________________________________________________________\n",
      "res4a_branch1 (Conv2D)          (None, 14, 14, 1024) 525312      activation_71[0][0]              \n",
      "__________________________________________________________________________________________________\n",
      "bn4a_branch2c (BatchNormalizati (None, 14, 14, 1024) 4096        res4a_branch2c[0][0]             \n",
      "__________________________________________________________________________________________________\n",
      "bn4a_branch1 (BatchNormalizatio (None, 14, 14, 1024) 4096        res4a_branch1[0][0]              \n",
      "__________________________________________________________________________________________________\n",
      "add_24 (Add)                    (None, 14, 14, 1024) 0           bn4a_branch2c[0][0]              \n",
      "                                                                 bn4a_branch1[0][0]               \n",
      "__________________________________________________________________________________________________\n",
      "activation_74 (Activation)      (None, 14, 14, 1024) 0           add_24[0][0]                     \n",
      "__________________________________________________________________________________________________\n",
      "res4b_branch2a (Conv2D)         (None, 14, 14, 256)  262400      activation_74[0][0]              \n",
      "__________________________________________________________________________________________________\n",
      "bn4b_branch2a (BatchNormalizati (None, 14, 14, 256)  1024        res4b_branch2a[0][0]             \n",
      "__________________________________________________________________________________________________\n",
      "activation_75 (Activation)      (None, 14, 14, 256)  0           bn4b_branch2a[0][0]              \n",
      "__________________________________________________________________________________________________\n",
      "res4b_branch2b (Conv2D)         (None, 14, 14, 256)  590080      activation_75[0][0]              \n",
      "__________________________________________________________________________________________________\n",
      "bn4b_branch2b (BatchNormalizati (None, 14, 14, 256)  1024        res4b_branch2b[0][0]             \n",
      "__________________________________________________________________________________________________\n",
      "activation_76 (Activation)      (None, 14, 14, 256)  0           bn4b_branch2b[0][0]              \n",
      "__________________________________________________________________________________________________\n",
      "res4b_branch2c (Conv2D)         (None, 14, 14, 1024) 263168      activation_76[0][0]              \n",
      "__________________________________________________________________________________________________\n",
      "bn4b_branch2c (BatchNormalizati (None, 14, 14, 1024) 4096        res4b_branch2c[0][0]             \n",
      "__________________________________________________________________________________________________\n",
      "add_25 (Add)                    (None, 14, 14, 1024) 0           bn4b_branch2c[0][0]              \n",
      "                                                                 activation_74[0][0]              \n",
      "__________________________________________________________________________________________________\n",
      "activation_77 (Activation)      (None, 14, 14, 1024) 0           add_25[0][0]                     \n",
      "__________________________________________________________________________________________________\n",
      "res4c_branch2a (Conv2D)         (None, 14, 14, 256)  262400      activation_77[0][0]              \n",
      "__________________________________________________________________________________________________\n",
      "bn4c_branch2a (BatchNormalizati (None, 14, 14, 256)  1024        res4c_branch2a[0][0]             \n",
      "__________________________________________________________________________________________________\n",
      "activation_78 (Activation)      (None, 14, 14, 256)  0           bn4c_branch2a[0][0]              \n",
      "__________________________________________________________________________________________________\n",
      "res4c_branch2b (Conv2D)         (None, 14, 14, 256)  590080      activation_78[0][0]              \n",
      "__________________________________________________________________________________________________\n",
      "bn4c_branch2b (BatchNormalizati (None, 14, 14, 256)  1024        res4c_branch2b[0][0]             \n",
      "__________________________________________________________________________________________________\n",
      "activation_79 (Activation)      (None, 14, 14, 256)  0           bn4c_branch2b[0][0]              \n",
      "__________________________________________________________________________________________________\n",
      "res4c_branch2c (Conv2D)         (None, 14, 14, 1024) 263168      activation_79[0][0]              \n",
      "__________________________________________________________________________________________________\n",
      "bn4c_branch2c (BatchNormalizati (None, 14, 14, 1024) 4096        res4c_branch2c[0][0]             \n",
      "__________________________________________________________________________________________________\n",
      "add_26 (Add)                    (None, 14, 14, 1024) 0           bn4c_branch2c[0][0]              \n",
      "                                                                 activation_77[0][0]              \n",
      "__________________________________________________________________________________________________\n",
      "activation_80 (Activation)      (None, 14, 14, 1024) 0           add_26[0][0]                     \n",
      "__________________________________________________________________________________________________\n",
      "res4d_branch2a (Conv2D)         (None, 14, 14, 256)  262400      activation_80[0][0]              \n",
      "__________________________________________________________________________________________________\n",
      "bn4d_branch2a (BatchNormalizati (None, 14, 14, 256)  1024        res4d_branch2a[0][0]             \n",
      "__________________________________________________________________________________________________\n",
      "activation_81 (Activation)      (None, 14, 14, 256)  0           bn4d_branch2a[0][0]              \n",
      "__________________________________________________________________________________________________\n",
      "res4d_branch2b (Conv2D)         (None, 14, 14, 256)  590080      activation_81[0][0]              \n",
      "__________________________________________________________________________________________________\n",
      "bn4d_branch2b (BatchNormalizati (None, 14, 14, 256)  1024        res4d_branch2b[0][0]             \n",
      "__________________________________________________________________________________________________\n",
      "activation_82 (Activation)      (None, 14, 14, 256)  0           bn4d_branch2b[0][0]              \n",
      "__________________________________________________________________________________________________\n",
      "res4d_branch2c (Conv2D)         (None, 14, 14, 1024) 263168      activation_82[0][0]              \n",
      "__________________________________________________________________________________________________\n",
      "bn4d_branch2c (BatchNormalizati (None, 14, 14, 1024) 4096        res4d_branch2c[0][0]             \n",
      "__________________________________________________________________________________________________\n",
      "add_27 (Add)                    (None, 14, 14, 1024) 0           bn4d_branch2c[0][0]              \n",
      "                                                                 activation_80[0][0]              \n",
      "__________________________________________________________________________________________________\n",
      "activation_83 (Activation)      (None, 14, 14, 1024) 0           add_27[0][0]                     \n",
      "__________________________________________________________________________________________________\n",
      "res4e_branch2a (Conv2D)         (None, 14, 14, 256)  262400      activation_83[0][0]              \n",
      "__________________________________________________________________________________________________\n",
      "bn4e_branch2a (BatchNormalizati (None, 14, 14, 256)  1024        res4e_branch2a[0][0]             \n",
      "__________________________________________________________________________________________________\n",
      "activation_84 (Activation)      (None, 14, 14, 256)  0           bn4e_branch2a[0][0]              \n",
      "__________________________________________________________________________________________________\n",
      "res4e_branch2b (Conv2D)         (None, 14, 14, 256)  590080      activation_84[0][0]              \n",
      "__________________________________________________________________________________________________\n",
      "bn4e_branch2b (BatchNormalizati (None, 14, 14, 256)  1024        res4e_branch2b[0][0]             \n",
      "__________________________________________________________________________________________________\n",
      "activation_85 (Activation)      (None, 14, 14, 256)  0           bn4e_branch2b[0][0]              \n",
      "__________________________________________________________________________________________________\n",
      "res4e_branch2c (Conv2D)         (None, 14, 14, 1024) 263168      activation_85[0][0]              \n",
      "__________________________________________________________________________________________________\n",
      "bn4e_branch2c (BatchNormalizati (None, 14, 14, 1024) 4096        res4e_branch2c[0][0]             \n",
      "__________________________________________________________________________________________________\n",
      "add_28 (Add)                    (None, 14, 14, 1024) 0           bn4e_branch2c[0][0]              \n",
      "                                                                 activation_83[0][0]              \n",
      "__________________________________________________________________________________________________\n",
      "activation_86 (Activation)      (None, 14, 14, 1024) 0           add_28[0][0]                     \n",
      "__________________________________________________________________________________________________\n",
      "res4f_branch2a (Conv2D)         (None, 14, 14, 256)  262400      activation_86[0][0]              \n",
      "__________________________________________________________________________________________________\n",
      "bn4f_branch2a (BatchNormalizati (None, 14, 14, 256)  1024        res4f_branch2a[0][0]             \n",
      "__________________________________________________________________________________________________\n",
      "activation_87 (Activation)      (None, 14, 14, 256)  0           bn4f_branch2a[0][0]              \n",
      "__________________________________________________________________________________________________\n",
      "res4f_branch2b (Conv2D)         (None, 14, 14, 256)  590080      activation_87[0][0]              \n",
      "__________________________________________________________________________________________________\n",
      "bn4f_branch2b (BatchNormalizati (None, 14, 14, 256)  1024        res4f_branch2b[0][0]             \n",
      "__________________________________________________________________________________________________\n",
      "activation_88 (Activation)      (None, 14, 14, 256)  0           bn4f_branch2b[0][0]              \n",
      "__________________________________________________________________________________________________\n",
      "res4f_branch2c (Conv2D)         (None, 14, 14, 1024) 263168      activation_88[0][0]              \n",
      "__________________________________________________________________________________________________\n",
      "bn4f_branch2c (BatchNormalizati (None, 14, 14, 1024) 4096        res4f_branch2c[0][0]             \n",
      "__________________________________________________________________________________________________\n",
      "add_29 (Add)                    (None, 14, 14, 1024) 0           bn4f_branch2c[0][0]              \n",
      "                                                                 activation_86[0][0]              \n",
      "__________________________________________________________________________________________________\n",
      "activation_89 (Activation)      (None, 14, 14, 1024) 0           add_29[0][0]                     \n",
      "__________________________________________________________________________________________________\n",
      "res5a_branch2a (Conv2D)         (None, 7, 7, 512)    524800      activation_89[0][0]              \n",
      "__________________________________________________________________________________________________\n",
      "bn5a_branch2a (BatchNormalizati (None, 7, 7, 512)    2048        res5a_branch2a[0][0]             \n",
      "__________________________________________________________________________________________________\n",
      "activation_90 (Activation)      (None, 7, 7, 512)    0           bn5a_branch2a[0][0]              \n",
      "__________________________________________________________________________________________________\n",
      "res5a_branch2b (Conv2D)         (None, 7, 7, 512)    2359808     activation_90[0][0]              \n",
      "__________________________________________________________________________________________________\n",
      "bn5a_branch2b (BatchNormalizati (None, 7, 7, 512)    2048        res5a_branch2b[0][0]             \n",
      "__________________________________________________________________________________________________\n",
      "activation_91 (Activation)      (None, 7, 7, 512)    0           bn5a_branch2b[0][0]              \n",
      "__________________________________________________________________________________________________\n",
      "res5a_branch2c (Conv2D)         (None, 7, 7, 2048)   1050624     activation_91[0][0]              \n",
      "__________________________________________________________________________________________________\n",
      "res5a_branch1 (Conv2D)          (None, 7, 7, 2048)   2099200     activation_89[0][0]              \n",
      "__________________________________________________________________________________________________\n",
      "bn5a_branch2c (BatchNormalizati (None, 7, 7, 2048)   8192        res5a_branch2c[0][0]             \n",
      "__________________________________________________________________________________________________\n",
      "bn5a_branch1 (BatchNormalizatio (None, 7, 7, 2048)   8192        res5a_branch1[0][0]              \n",
      "__________________________________________________________________________________________________\n",
      "add_30 (Add)                    (None, 7, 7, 2048)   0           bn5a_branch2c[0][0]              \n",
      "                                                                 bn5a_branch1[0][0]               \n",
      "__________________________________________________________________________________________________\n",
      "activation_92 (Activation)      (None, 7, 7, 2048)   0           add_30[0][0]                     \n",
      "__________________________________________________________________________________________________\n",
      "res5b_branch2a (Conv2D)         (None, 7, 7, 512)    1049088     activation_92[0][0]              \n",
      "__________________________________________________________________________________________________\n",
      "bn5b_branch2a (BatchNormalizati (None, 7, 7, 512)    2048        res5b_branch2a[0][0]             \n",
      "__________________________________________________________________________________________________\n",
      "activation_93 (Activation)      (None, 7, 7, 512)    0           bn5b_branch2a[0][0]              \n",
      "__________________________________________________________________________________________________\n",
      "res5b_branch2b (Conv2D)         (None, 7, 7, 512)    2359808     activation_93[0][0]              \n",
      "__________________________________________________________________________________________________\n",
      "bn5b_branch2b (BatchNormalizati (None, 7, 7, 512)    2048        res5b_branch2b[0][0]             \n",
      "__________________________________________________________________________________________________\n",
      "activation_94 (Activation)      (None, 7, 7, 512)    0           bn5b_branch2b[0][0]              \n",
      "__________________________________________________________________________________________________\n",
      "res5b_branch2c (Conv2D)         (None, 7, 7, 2048)   1050624     activation_94[0][0]              \n",
      "__________________________________________________________________________________________________\n",
      "bn5b_branch2c (BatchNormalizati (None, 7, 7, 2048)   8192        res5b_branch2c[0][0]             \n",
      "__________________________________________________________________________________________________\n",
      "add_31 (Add)                    (None, 7, 7, 2048)   0           bn5b_branch2c[0][0]              \n",
      "                                                                 activation_92[0][0]              \n",
      "__________________________________________________________________________________________________\n",
      "activation_95 (Activation)      (None, 7, 7, 2048)   0           add_31[0][0]                     \n",
      "__________________________________________________________________________________________________\n",
      "res5c_branch2a (Conv2D)         (None, 7, 7, 512)    1049088     activation_95[0][0]              \n",
      "__________________________________________________________________________________________________\n",
      "bn5c_branch2a (BatchNormalizati (None, 7, 7, 512)    2048        res5c_branch2a[0][0]             \n",
      "__________________________________________________________________________________________________\n",
      "activation_96 (Activation)      (None, 7, 7, 512)    0           bn5c_branch2a[0][0]              \n",
      "__________________________________________________________________________________________________\n",
      "res5c_branch2b (Conv2D)         (None, 7, 7, 512)    2359808     activation_96[0][0]              \n",
      "__________________________________________________________________________________________________\n",
      "bn5c_branch2b (BatchNormalizati (None, 7, 7, 512)    2048        res5c_branch2b[0][0]             \n",
      "__________________________________________________________________________________________________\n",
      "activation_97 (Activation)      (None, 7, 7, 512)    0           bn5c_branch2b[0][0]              \n",
      "__________________________________________________________________________________________________\n",
      "res5c_branch2c (Conv2D)         (None, 7, 7, 2048)   1050624     activation_97[0][0]              \n",
      "__________________________________________________________________________________________________\n",
      "bn5c_branch2c (BatchNormalizati (None, 7, 7, 2048)   8192        res5c_branch2c[0][0]             \n",
      "__________________________________________________________________________________________________\n",
      "add_32 (Add)                    (None, 7, 7, 2048)   0           bn5c_branch2c[0][0]              \n",
      "                                                                 activation_95[0][0]              \n",
      "__________________________________________________________________________________________________\n",
      "activation_98 (Activation)      (None, 7, 7, 2048)   0           add_32[0][0]                     \n",
      "__________________________________________________________________________________________________\n",
      "avg_pool (GlobalAveragePooling2 (None, 2048)         0           activation_98[0][0]              \n",
      "__________________________________________________________________________________________________\n",
      "dense_7 (Dense)                 (None, 3)            6147        avg_pool[0][0]                   \n",
      "==================================================================================================\n",
      "Total params: 23,593,859\n",
      "Trainable params: 6,147\n",
      "Non-trainable params: 23,587,712\n",
      "__________________________________________________________________________________________________\n"
     ]
    }
   ],
   "source": [
    "final_model.summary()"
   ]
  },
  {
   "cell_type": "markdown",
   "metadata": {},
   "source": [
    "# fitting data"
   ]
  },
  {
   "cell_type": "code",
   "execution_count": 56,
   "metadata": {},
   "outputs": [
    {
     "name": "stdout",
     "output_type": "stream",
     "text": [
      "Epoch 1/25\n",
      "30/30 [==============================] - 27s 915ms/step - loss: 0.4573 - accuracy: 0.7927\n",
      "Epoch 2/25\n",
      "30/30 [==============================] - 33s 1s/step - loss: 0.4876 - accuracy: 0.7869\n",
      "Epoch 3/25\n",
      "30/30 [==============================] - 36s 1s/step - loss: 0.4531 - accuracy: 0.8042\n",
      "Epoch 4/25\n",
      "30/30 [==============================] - 35s 1s/step - loss: 0.4905 - accuracy: 0.7709\n",
      "Epoch 5/25\n",
      "30/30 [==============================] - 33s 1s/step - loss: 0.4982 - accuracy: 0.7827\n",
      "Epoch 6/25\n",
      "30/30 [==============================] - 36s 1s/step - loss: 0.4521 - accuracy: 0.7990\n",
      "Epoch 7/25\n",
      "30/30 [==============================] - 35s 1s/step - loss: 0.4787 - accuracy: 0.7667\n",
      "Epoch 8/25\n",
      "30/30 [==============================] - 34s 1s/step - loss: 0.4463 - accuracy: 0.8084\n",
      "Epoch 9/25\n",
      "30/30 [==============================] - 36s 1s/step - loss: 0.4421 - accuracy: 0.8212\n",
      "Epoch 10/25\n",
      "30/30 [==============================] - 37s 1s/step - loss: 0.4321 - accuracy: 0.8083\n",
      "Epoch 11/25\n",
      "30/30 [==============================] - 35s 1s/step - loss: 0.4312 - accuracy: 0.8319\n",
      "Epoch 12/25\n",
      "30/30 [==============================] - 36s 1s/step - loss: 0.4190 - accuracy: 0.8198\n",
      "Epoch 13/25\n",
      "30/30 [==============================] - 35s 1s/step - loss: 0.4135 - accuracy: 0.8373\n",
      "Epoch 14/25\n",
      "30/30 [==============================] - 37s 1s/step - loss: 0.3948 - accuracy: 0.8323\n",
      "Epoch 15/25\n",
      "30/30 [==============================] - 35s 1s/step - loss: 0.4293 - accuracy: 0.8255\n",
      "Epoch 16/25\n",
      "30/30 [==============================] - 36s 1s/step - loss: 0.4125 - accuracy: 0.8212\n",
      "Epoch 17/25\n",
      "30/30 [==============================] - 35s 1s/step - loss: 0.3766 - accuracy: 0.8458\n",
      "Epoch 18/25\n",
      "30/30 [==============================] - 37s 1s/step - loss: 0.4357 - accuracy: 0.8030\n",
      "Epoch 19/25\n",
      "30/30 [==============================] - 36s 1s/step - loss: 0.4140 - accuracy: 0.8094\n",
      "Epoch 20/25\n",
      "30/30 [==============================] - 35s 1s/step - loss: 0.4171 - accuracy: 0.8201\n",
      "Epoch 21/25\n",
      "30/30 [==============================] - 35s 1s/step - loss: 0.3754 - accuracy: 0.8500\n",
      "Epoch 22/25\n",
      "30/30 [==============================] - 35s 1s/step - loss: 0.4078 - accuracy: 0.8298\n",
      "Epoch 23/25\n",
      "30/30 [==============================] - 34s 1s/step - loss: 0.3651 - accuracy: 0.8597: 4s - loss: 0.3668 - accuracy\n",
      "Epoch 24/25\n",
      "30/30 [==============================] - 36s 1s/step - loss: 0.3925 - accuracy: 0.8438\n",
      "Epoch 25/25\n",
      "30/30 [==============================] - 35s 1s/step - loss: 0.3975 - accuracy: 0.8683\n"
     ]
    },
    {
     "data": {
      "text/plain": [
       "<keras.callbacks.callbacks.History at 0x2540367fc48>"
      ]
     },
     "execution_count": 56,
     "metadata": {},
     "output_type": "execute_result"
    }
   ],
   "source": [
    "final_model.fit(batches,steps_per_epoch=30, epochs=25)"
   ]
  },
  {
   "cell_type": "code",
   "execution_count": 73,
   "metadata": {},
   "outputs": [],
   "source": [
    "def predict(img_path, model):\n",
    "    img = image.load_img(img_path, target_size=(224, 224))\n",
    "    x = image.img_to_array(img)\n",
    "    x = np.expand_dims(x, axis=0)\n",
    "    preds = model.predict(x)\n",
    "    return preds"
   ]
  },
  {
   "cell_type": "code",
   "execution_count": 75,
   "metadata": {},
   "outputs": [
    {
     "data": {
      "text/plain": [
       "array([[4.2224515e-04, 9.8729986e-01, 1.2277914e-02]], dtype=float32)"
      ]
     },
     "execution_count": 75,
     "metadata": {},
     "output_type": "execute_result"
    }
   ],
   "source": [
    "predict(r'data\\covid\\1.CXRCTThoraximagesofCOVID-19fromSingapore.pdf-000-fig1b.png',final_model)"
   ]
  },
  {
   "cell_type": "code",
   "execution_count": 57,
   "metadata": {},
   "outputs": [
    {
     "name": "stdout",
     "output_type": "stream",
     "text": [
      "Found 1734 images belonging to 3 classes.\n"
     ]
    }
   ],
   "source": [
    "val_batche = gen.flow_from_directory(TRAIN_DIR, target_size=(224,224),\n",
    "                                  \n",
    "                                   class_mode='categorical', shuffle=True, batch_size=32)"
   ]
  },
  {
   "cell_type": "code",
   "execution_count": 68,
   "metadata": {},
   "outputs": [],
   "source": [
    "data_list = []\n",
    "batch_index = 0\n",
    "\n",
    "while batch_index <= val_batche.batch_index:\n",
    "    data = val_batche.next()\n",
    "    data_list.append(data[0])\n",
    "    batch_index = batch_index + 1\n",
    "\n",
    "# now, data_array is the numeric data of whole images\n",
    "data_array = np.asarray(data_list)"
   ]
  },
  {
   "cell_type": "code",
   "execution_count": 72,
   "metadata": {},
   "outputs": [
    {
     "ename": "AttributeError",
     "evalue": "'DirectoryIterator' object has no attribute 'shape'",
     "output_type": "error",
     "traceback": [
      "\u001b[1;31m---------------------------------------------------------------------------\u001b[0m",
      "\u001b[1;31mAttributeError\u001b[0m                            Traceback (most recent call last)",
      "\u001b[1;32m<ipython-input-72-1932ddfbdbc0>\u001b[0m in \u001b[0;36m<module>\u001b[1;34m\u001b[0m\n\u001b[1;32m----> 1\u001b[1;33m \u001b[0mval_batche\u001b[0m\u001b[1;33m.\u001b[0m\u001b[0mshape\u001b[0m\u001b[1;33m\u001b[0m\u001b[1;33m\u001b[0m\u001b[0m\n\u001b[0m",
      "\u001b[1;31mAttributeError\u001b[0m: 'DirectoryIterator' object has no attribute 'shape'"
     ]
    }
   ],
   "source": [
    "val_batche.shape"
   ]
  },
  {
   "cell_type": "code",
   "execution_count": 59,
   "metadata": {},
   "outputs": [],
   "source": [
    "\n",
    "es = keras.callbacks.EarlyStopping(\n",
    "    monitor='val_loss',\n",
    "    mode = 'min',\n",
    "    verbose=1,\n",
    "    patience = 40,\n",
    "    restore_best_weights=True\n",
    ")"
   ]
  },
  {
   "cell_type": "code",
   "execution_count": 77,
   "metadata": {
    "scrolled": true
   },
   "outputs": [
    {
     "name": "stdout",
     "output_type": "stream",
     "text": [
      "Epoch 1/40\n",
      "30/30 [==============================] - 64s 2s/step - loss: 0.3387 - accuracy: 0.8630 - val_loss: 3.3741 - val_accuracy: 0.3737\n",
      "Epoch 2/40\n",
      "30/30 [==============================] - 118s 4s/step - loss: 0.3359 - accuracy: 0.8833 - val_loss: 4.3138 - val_accuracy: 0.3968\n",
      "Epoch 3/40\n",
      "30/30 [==============================] - 150s 5s/step - loss: 0.3343 - accuracy: 0.8640 - val_loss: 3.5939 - val_accuracy: 0.4181\n",
      "Epoch 4/40\n",
      "30/30 [==============================] - 171s 6s/step - loss: 0.3235 - accuracy: 0.8771 - val_loss: 1.7215 - val_accuracy: 0.3789\n",
      "Epoch 5/40\n",
      "30/30 [==============================] - 158s 5s/step - loss: 0.3344 - accuracy: 0.8625 - val_loss: 0.7209 - val_accuracy: 0.4164\n",
      "Epoch 6/40\n",
      "30/30 [==============================] - 167s 6s/step - loss: 0.3291 - accuracy: 0.8672 - val_loss: 1.5914 - val_accuracy: 0.3933\n",
      "Epoch 7/40\n",
      "30/30 [==============================] - 157s 5s/step - loss: 0.3312 - accuracy: 0.8704 - val_loss: 1.4666 - val_accuracy: 0.4089\n",
      "Epoch 8/40\n",
      "30/30 [==============================] - 168s 6s/step - loss: 0.3140 - accuracy: 0.8813 - val_loss: 1.5165 - val_accuracy: 0.3800\n",
      "Epoch 9/40\n",
      "30/30 [==============================] - 128s 4s/step - loss: 0.3253 - accuracy: 0.8687 - val_loss: 0.7915 - val_accuracy: 0.4296\n",
      "Epoch 10/40\n",
      "30/30 [==============================] - 134s 4s/step - loss: 0.3324 - accuracy: 0.8744 - val_loss: 2.9438 - val_accuracy: 0.4210\n",
      "Epoch 11/40\n",
      "30/30 [==============================] - 134s 4s/step - loss: 0.3459 - accuracy: 0.8490 - val_loss: 3.9524 - val_accuracy: 0.3789\n",
      "Epoch 12/40\n",
      "30/30 [==============================] - 142s 5s/step - loss: 0.3208 - accuracy: 0.8737 - val_loss: 2.3797 - val_accuracy: 0.4043\n",
      "Epoch 13/40\n",
      "30/30 [==============================] - 151s 5s/step - loss: 0.3009 - accuracy: 0.8865 - val_loss: 3.4043 - val_accuracy: 0.3899\n",
      "Epoch 14/40\n",
      "30/30 [==============================] - 137s 5s/step - loss: 0.3094 - accuracy: 0.8779 - val_loss: 4.0002 - val_accuracy: 0.3835\n",
      "Epoch 15/40\n",
      "30/30 [==============================] - 178s 6s/step - loss: 0.2964 - accuracy: 0.8990 - val_loss: 3.3759 - val_accuracy: 0.3818\n",
      "Restoring model weights from the end of the best epoch\n",
      "Epoch 00015: early stopping\n"
     ]
    },
    {
     "data": {
      "text/plain": [
       "<keras.callbacks.callbacks.History at 0x25420734a08>"
      ]
     },
     "execution_count": 77,
     "metadata": {},
     "output_type": "execute_result"
    }
   ],
   "source": [
    "final_model.fit(batches,steps_per_epoch=30, epochs=40,validation_data=val_batche,callbacks=[es],shuffle=True)"
   ]
  },
  {
   "cell_type": "markdown",
   "metadata": {},
   "source": []
  },
  {
   "cell_type": "code",
   "execution_count": null,
   "metadata": {},
   "outputs": [],
   "source": []
  }
 ],
 "metadata": {
  "kernelspec": {
   "display_name": "Python 3",
   "language": "python",
   "name": "python3"
  },
  "language_info": {
   "codemirror_mode": {
    "name": "ipython",
    "version": 3
   },
   "file_extension": ".py",
   "mimetype": "text/x-python",
   "name": "python",
   "nbconvert_exporter": "python",
   "pygments_lexer": "ipython3",
   "version": "3.7.6"
  }
 },
 "nbformat": 4,
 "nbformat_minor": 4
}
